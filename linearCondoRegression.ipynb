{
  "nbformat": 4,
  "nbformat_minor": 0,
  "metadata": {
    "colab": {
      "name": "linearCondoRegression.ipynb",
      "provenance": [],
      "collapsed_sections": [],
      "authorship_tag": "ABX9TyPIDj+SK/RjWoVZrPhOr5zc",
      "include_colab_link": true
    },
    "kernelspec": {
      "name": "python3",
      "display_name": "Python 3"
    },
    "language_info": {
      "name": "python"
    }
  },
  "cells": [
    {
      "cell_type": "markdown",
      "metadata": {
        "id": "view-in-github",
        "colab_type": "text"
      },
      "source": [
        "<a href=\"https://colab.research.google.com/github/chatmethar-comp/CondoRegressionModel/blob/main/linearCondoRegression.ipynb\" target=\"_parent\"><img src=\"https://colab.research.google.com/assets/colab-badge.svg\" alt=\"Open In Colab\"/></a>"
      ]
    },
    {
      "cell_type": "code",
      "metadata": {
        "id": "5ywdBIoCp2QY"
      },
      "source": [
        "import numpy as np\n",
        "x = np.array([35,47,42,44,45,45,50,42,43,44,40,41,37,39,32,36])\n",
        "y = np.array([2911,4000,3822,3900,3894,4102,4264,3714,3954,4000,3789,3900,2985,3951,1920,3544])\n",
        "x = x.reshape(-1,1)"
      ],
      "execution_count": 34,
      "outputs": []
    },
    {
      "cell_type": "markdown",
      "metadata": {
        "id": "tluzZiM-5-lZ"
      },
      "source": [
        ""
      ]
    },
    {
      "cell_type": "code",
      "metadata": {
        "colab": {
          "base_uri": "https://localhost:8080/",
          "height": 265
        },
        "id": "PBrV52P65Jnw",
        "outputId": "c74cffc1-6056-4313-ecab-01025281f0f1"
      },
      "source": [
        "import matplotlib.pyplot as plt\n",
        "plt.scatter(x,y, s=80, marker = '*')\n",
        "plt.show()"
      ],
      "execution_count": 35,
      "outputs": [
        {
          "output_type": "display_data",
          "data": {
            "image/png": "[encoded data removed]",
            "text/plain": [
              "<Figure size 432x288 with 1 Axes>"
            ]
          },
          "metadata": {
            "needs_background": "light"
          }
        }
      ]
    },
    {
      "cell_type": "code",
      "metadata": {
        "id": "-nOa_STA6hnR"
      },
      "source": [
        "from sklearn.linear_model import LinearRegression"
      ],
      "execution_count": 36,
      "outputs": []
    },
    {
      "cell_type": "code",
      "metadata": {
        "colab": {
          "base_uri": "https://localhost:8080/"
        },
        "id": "I-1VDBCj7NfN",
        "outputId": "240cdf62-4556-40bd-a446-45c1317528dd"
      },
      "source": [
        "LR = LinearRegression(normalize=True)\n",
        "LR.fit(x,y)"
      ],
      "execution_count": 37,
      "outputs": [
        {
          "output_type": "execute_result",
          "data": {
            "text/plain": [
              "LinearRegression(copy_X=True, fit_intercept=True, n_jobs=None, normalize=True)"
            ]
          },
          "metadata": {},
          "execution_count": 37
        }
      ]
    },
    {
      "cell_type": "code",
      "metadata": {
        "id": "_U-vhhEz7SYQ",
        "colab": {
          "base_uri": "https://localhost:8080/"
        },
        "outputId": "4219ed5d-2a66-4413-e831-eed6f4163679"
      },
      "source": [
        "y_pred = LR.predict(x)\n",
        "print(y_pred)\n",
        "from sklearn.metrics import mean_squared_error, r2_score\n",
        "rmse = np.sqrt(mean_squared_error(y,y_pred))\n",
        "print(\"rmse root mean sqare error =\",rmse)\n",
        "\n",
        "r2 = r2_score(y,y_pred)\n",
        "print(\"R2 = \",r2)"
      ],
      "execution_count": 38,
      "outputs": [
        {
          "output_type": "stream",
          "name": "stdout",
          "text": [
            "[2989.19213483 4262.47752809 3731.94194757 3944.15617978 4050.26329588\n",
            " 4050.26329588 4580.7988764  3731.94194757 3838.04906367 3944.15617978\n",
            " 3519.72771536 3625.83483146 3201.40636704 3413.62059925 2670.87078652\n",
            " 3095.29925094]\n",
            "rmse root mean sqare error = 303.9152760843936\n",
            "R2 =  0.7177248113014503\n"
          ]
        }
      ]
    },
    {
      "cell_type": "code",
      "metadata": {
        "colab": {
          "base_uri": "https://localhost:8080/",
          "height": 265
        },
        "id": "Sc5DsUfBAwyg",
        "outputId": "ad2f6316-a713-434a-c988-50d9f73225f3"
      },
      "source": [
        "plt.scatter(x,y,marker= '+',label = 'data')\n",
        "plt.plot(x,y_pred,linewidth=3,color = 'r',label = 'linear regression model')\n",
        "plt.legend(loc = 'best')\n",
        "plt.show()"
      ],
      "execution_count": 39,
      "outputs": [
        {
          "output_type": "display_data",
          "data": {
            "image/png": "[encoded data removed]",
            "text/plain": [
              "<Figure size 432x288 with 1 Axes>"
            ]
          },
          "metadata": {
            "needs_background": "light"
          }
        }
      ]
    },
    {
      "cell_type": "code",
      "metadata": {
        "colab": {
          "base_uri": "https://localhost:8080/"
        },
        "id": "2j8ufEjJBqAg",
        "outputId": "1ebc5bc8-2534-4fac-e127-bc138c409487"
      },
      "source": [
        "data_predict = [63]\n",
        "print(\"63 m2 area cost\",LR.predict([data_predict])[0],\"thousand bath\",\"\\nposibility {:.2f}%\".format(r2_score(y,y_pred)*100))"
      ],
      "execution_count": 40,
      "outputs": [
        {
          "output_type": "stream",
          "name": "stdout",
          "text": [
            "63 m2 area cost 5960.191385767791 thousand bath \n",
            "posibility 71.77%\n"
          ]
        }
      ]
    },
    {
      "cell_type": "markdown",
      "metadata": {
        "id": "etcUwG2ElP4P"
      },
      "source": [
        "## **Boston data**"
      ]
    },
    {
      "cell_type": "code",
      "metadata": {
        "id": "0LT5C8Pyk31_"
      },
      "source": [
        "from sklearn import datasets\n",
        "boston = datasets.load_boston()"
      ],
      "execution_count": 41,
      "outputs": []
    },
    {
      "cell_type": "code",
      "metadata": {
        "colab": {
          "base_uri": "https://localhost:8080/"
        },
        "id": "q4EB-khflASW",
        "outputId": "4e303728-e6da-4405-a583-dcc19beebe67"
      },
      "source": [
        "x = boston.data\n",
        "y = boston.target\n",
        "print(boston.feature_names)"
      ],
      "execution_count": 43,
      "outputs": [
        {
          "output_type": "stream",
          "name": "stdout",
          "text": [
            "['CRIM' 'ZN' 'INDUS' 'CHAS' 'NOX' 'RM' 'AGE' 'DIS' 'RAD' 'TAX' 'PTRATIO'\n",
            " 'B' 'LSTAT']\n"
          ]
        }
      ]
    },
    {
      "cell_type": "code",
      "metadata": {
        "colab": {
          "base_uri": "https://localhost:8080/"
        },
        "id": "aX5vkhivlO0q",
        "outputId": "5eb6669a-c310-44e3-a80d-687f1bf841fe"
      },
      "source": [
        "from sklearn.linear_model import LinearRegression\n",
        "from sklearn.model_selection import train_test_split\n",
        "X_train, X_test, y_train, y_test = train_test_split(x,y,test_size=0.2)\n",
        "print(X_train.shape)\n",
        "print(X_test.shape)"
      ],
      "execution_count": 50,
      "outputs": [
        {
          "output_type": "stream",
          "name": "stdout",
          "text": [
            "(404, 13)\n",
            "(102, 13)\n"
          ]
        }
      ]
    },
    {
      "cell_type": "code",
      "metadata": {
        "id": "k_Q_Ji7cmc8H"
      },
      "source": [
        "LRboston = LinearRegression(normalize=True)"
      ],
      "execution_count": 51,
      "outputs": []
    },
    {
      "cell_type": "code",
      "metadata": {
        "colab": {
          "base_uri": "https://localhost:8080/"
        },
        "id": "gc38U9ljnAHO",
        "outputId": "7792d1e9-91ff-4f4f-8966-0d85f1b3cf1f"
      },
      "source": [
        "LRboston.fit(X_train,y_train)\n",
        "y_predboston = LRboston.predict(X_test)\n",
        "print(y_predboston)"
      ],
      "execution_count": 59,
      "outputs": [
        {
          "output_type": "stream",
          "name": "stdout",
          "text": [
            "[34.99429595 30.41033161 25.04938175 29.63979244 19.60409337 19.43254371\n",
            " 43.48951436 17.11612922 26.29086093 19.04829414 24.10667593 14.97274029\n",
            " 19.18460834 23.48411211 23.99594803 18.10861626 14.53460088 22.94994526\n",
            " 22.18674027 16.28184521 20.14253704 20.20337017 27.71887414 16.81334423\n",
            " 17.26173518 20.70041505 20.38237857 33.80277274 36.12082893 34.20351672\n",
            " 17.07639774 20.44251231 17.32876661 15.31535425 14.02105734 25.42085098\n",
            " 26.00755682 27.36981831 20.0730372  30.29679695 15.72289262 19.91943715\n",
            " 32.20302022  7.00811711 20.97056612 18.63378468  5.63104602 36.72713811\n",
            " 28.40192413 34.82734871 25.00813745 30.39405651 10.30072945 14.67943117\n",
            " 28.30917564  5.59187572 18.86483852 20.71931288 21.39279162 12.78231438\n",
            " 20.20612762 42.90010819 17.11217301 30.67648102 31.09511053 22.62725781\n",
            " 22.28554491 18.08139934  7.45940074 13.44539978 13.12683168 16.29959903\n",
            " 20.3108905  35.32466858 32.53951193 15.84646461 38.95516332  6.04510256\n",
            " 10.47093547 40.18010686 28.49527514 12.83104369 11.96781279 21.25778712\n",
            " 15.14336054  9.07640024 19.31201865 24.29714966  9.59807722 26.48735248\n",
            " 22.95469345 14.9080526  31.28275662 28.20343975 28.33023516 13.01195032\n",
            "  0.13973528 19.91315726 25.36674639 22.07069928  2.51438401 23.46702623]\n"
          ]
        }
      ]
    },
    {
      "cell_type": "code",
      "metadata": {
        "colab": {
          "base_uri": "https://localhost:8080/"
        },
        "id": "Q2apkw5NneA0",
        "outputId": "347dc398-68ab-48c4-8b14-294ace535312"
      },
      "source": [
        "from sklearn.metrics import mean_squared_error, r2_score\n",
        "import numpy as np\n",
        "rmse = np.sqrt(mean_squared_error(y_predboston,y_test))\n",
        "print(rmse )\n",
        "print(r2_score(y_predboston,y_test))"
      ],
      "execution_count": 58,
      "outputs": [
        {
          "output_type": "stream",
          "name": "stdout",
          "text": [
            "5.612705347102005\n",
            "0.5865325132305029\n"
          ]
        }
      ]
    }
  ]
}