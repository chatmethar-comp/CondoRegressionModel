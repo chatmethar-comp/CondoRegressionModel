{
  "nbformat": 4,
  "nbformat_minor": 0,
  "metadata": {
    "colab": {
      "name": "linearCondoRegression.ipynb",
      "provenance": [],
      "collapsed_sections": [
        "NwDi7Ct8KAq7",
        "etcUwG2ElP4P"
      ],
      "toc_visible": true,
      "authorship_tag": "ABX9TyOxSbLZqag4BfN4dLJ1inTv",
      "include_colab_link": true
    },
    "kernelspec": {
      "name": "python3",
      "display_name": "Python 3"
    },
    "language_info": {
      "name": "python"
    }
  },
  "cells": [
    {
      "cell_type": "markdown",
      "metadata": {
        "id": "view-in-github",
        "colab_type": "text"
      },
      "source": [
        "<a href=\"https://colab.research.google.com/github/chatmethar-comp/CondoRegressionModel/blob/main/linearCondoRegression.ipynb\" target=\"_parent\"><img src=\"https://colab.research.google.com/assets/colab-badge.svg\" alt=\"Open In Colab\"/></a>"
      ]
    },
    {
      "cell_type": "markdown",
      "metadata": {
        "id": "NwDi7Ct8KAq7"
      },
      "source": [
        "### **Linear Regression Condominiam**"
      ]
    },
    {
      "cell_type": "code",
      "metadata": {
        "id": "5ywdBIoCp2QY"
      },
      "source": [
        "import numpy as np\n",
        "x = np.array([35,47,42,44,45,45,50,42,43,44,40,41,37,39,32,36])\n",
        "y = np.array([2911,4000,3822,3900,3894,4102,4264,3714,3954,4000,3789,3900,2985,3951,1920,3544])\n",
        "x = x.reshape(-1,1)"
      ],
      "execution_count": null,
      "outputs": []
    },
    {
      "cell_type": "markdown",
      "metadata": {
        "id": "tluzZiM-5-lZ"
      },
      "source": [
        ""
      ]
    },
    {
      "cell_type": "code",
      "metadata": {
        "colab": {
          "base_uri": "https://localhost:8080/",
          "height": 265
        },
        "id": "PBrV52P65Jnw",
        "outputId": "31ecc243-d912-4d99-f4d0-5b14f257750f"
      },
      "source": [
        "import matplotlib.pyplot as plt\n",
        "plt.scatter(x,y, s=80, marker = '*')\n",
        "plt.show()"
      ],
      "execution_count": null,
      "outputs": [
        {
          "output_type": "display_data",
          "data": {
            "image/png": "[encoded data removed]",
            "text/plain": [
              "<Figure size 432x288 with 1 Axes>"
            ]
          },
          "metadata": {
            "needs_background": "light"
          }
        }
      ]
    },
    {
      "cell_type": "code",
      "metadata": {
        "id": "-nOa_STA6hnR"
      },
      "source": [
        "from sklearn.linear_model import LinearRegression"
      ],
      "execution_count": null,
      "outputs": []
    },
    {
      "cell_type": "code",
      "metadata": {
        "colab": {
          "base_uri": "https://localhost:8080/"
        },
        "id": "I-1VDBCj7NfN",
        "outputId": "822d25c2-2d6a-44d7-a739-2514c6974af4"
      },
      "source": [
        "LR = LinearRegression(normalize=True)\n",
        "LR.fit(x,y)"
      ],
      "execution_count": null,
      "outputs": [
        {
          "output_type": "execute_result",
          "data": {
            "text/plain": [
              "LinearRegression(copy_X=True, fit_intercept=True, n_jobs=None, normalize=True)"
            ]
          },
          "metadata": {},
          "execution_count": 4
        }
      ]
    },
    {
      "cell_type": "code",
      "metadata": {
        "id": "_U-vhhEz7SYQ",
        "colab": {
          "base_uri": "https://localhost:8080/"
        },
        "outputId": "ccd86b6d-1def-4dc8-cd85-67cc25ec4e5b"
      },
      "source": [
        "y_pred = LR.predict(x)\n",
        "print(y_pred)\n",
        "from sklearn.metrics import mean_squared_error, r2_score\n",
        "rmse = np.sqrt(mean_squared_error(y,y_pred))\n",
        "print(\"rmse root mean sqare error =\",rmse)\n",
        "\n",
        "r2 = r2_score(y,y_pred)\n",
        "print(\"R2 = \",r2)"
      ],
      "execution_count": null,
      "outputs": [
        {
          "output_type": "stream",
          "name": "stdout",
          "text": [
            "[2989.19213483 4262.47752809 3731.94194757 3944.15617978 4050.26329588\n",
            " 4050.26329588 4580.7988764  3731.94194757 3838.04906367 3944.15617978\n",
            " 3519.72771536 3625.83483146 3201.40636704 3413.62059925 2670.87078652\n",
            " 3095.29925094]\n",
            "rmse root mean sqare error = 303.9152760843936\n",
            "R2 =  0.7177248113014503\n"
          ]
        }
      ]
    },
    {
      "cell_type": "code",
      "metadata": {
        "colab": {
          "base_uri": "https://localhost:8080/",
          "height": 265
        },
        "id": "Sc5DsUfBAwyg",
        "outputId": "fe39271a-b358-42fc-c4da-6d04c1ba7778"
      },
      "source": [
        "plt.scatter(x,y,marker= '+',label = 'data')\n",
        "plt.plot(x,y_pred,linewidth=3,color = 'r',label = 'linear regression model')\n",
        "plt.legend(loc = 'lower right')\n",
        "plt.show()"
      ],
      "execution_count": null,
      "outputs": [
        {
          "output_type": "display_data",
          "data": {
            "image/png": "[encoded data removed]",
            "text/plain": [
              "<Figure size 432x288 with 1 Axes>"
            ]
          },
          "metadata": {
            "needs_background": "light"
          }
        }
      ]
    },
    {
      "cell_type": "code",
      "metadata": {
        "colab": {
          "base_uri": "https://localhost:8080/"
        },
        "id": "2j8ufEjJBqAg",
        "outputId": "3ca4433d-1984-48d6-ddb0-5fd87cc5ae14"
      },
      "source": [
        "data_predict = [63]\n",
        "print(\"63 m2 area cost\",LR.predict([data_predict])[0],\"thousand bath\",\"\\nposibility {:.2f}%\".format(r2_score(y,y_pred)*100))"
      ],
      "execution_count": null,
      "outputs": [
        {
          "output_type": "stream",
          "name": "stdout",
          "text": [
            "63 m2 area cost 5960.191385767791 thousand bath \n",
            "posibility 71.77%\n"
          ]
        }
      ]
    },
    {
      "cell_type": "markdown",
      "metadata": {
        "id": "az2sJBLLKVGa"
      },
      "source": [
        "## **Polynomial Regression Condominiam**"
      ]
    },
    {
      "cell_type": "code",
      "metadata": {
        "colab": {
          "base_uri": "https://localhost:8080/",
          "height": 265
        },
        "id": "7mT0UX3JKhk6",
        "outputId": "206b2bb6-5a7d-4542-8bab-ffc353f36d7d"
      },
      "source": [
        "plt.scatter(x,y,marker='*')\n",
        "plt.show()"
      ],
      "execution_count": null,
      "outputs": [
        {
          "output_type": "display_data",
          "data": {
            "image/png": "[encoded data removed]",
            "text/plain": [
              "<Figure size 432x288 with 1 Axes>"
            ]
          },
          "metadata": {
            "needs_background": "light"
          }
        }
      ]
    },
    {
      "cell_type": "code",
      "metadata": {
        "id": "KXfTcUI4LaPf"
      },
      "source": [
        "from sklearn.preprocessing import PolynomialFeatures\n",
        "from sklearn.linear_model import LinearRegression"
      ],
      "execution_count": null,
      "outputs": []
    },
    {
      "cell_type": "code",
      "metadata": {
        "colab": {
          "base_uri": "https://localhost:8080/"
        },
        "id": "z7nS_OgrLxPO",
        "outputId": "daf91263-77f5-4e88-c5b1-31cea556dc4c"
      },
      "source": [
        "poly_feature = PolynomialFeatures(degree=2)\n",
        "x_poly = poly_feature.fit_transform(x)\n",
        "print(x_poly)"
      ],
      "execution_count": null,
      "outputs": [
        {
          "output_type": "stream",
          "name": "stdout",
          "text": [
            "[[1.000e+00 3.500e+01 1.225e+03]\n",
            " [1.000e+00 4.700e+01 2.209e+03]\n",
            " [1.000e+00 4.200e+01 1.764e+03]\n",
            " [1.000e+00 4.400e+01 1.936e+03]\n",
            " [1.000e+00 4.500e+01 2.025e+03]\n",
            " [1.000e+00 4.500e+01 2.025e+03]\n",
            " [1.000e+00 5.000e+01 2.500e+03]\n",
            " [1.000e+00 4.200e+01 1.764e+03]\n",
            " [1.000e+00 4.300e+01 1.849e+03]\n",
            " [1.000e+00 4.400e+01 1.936e+03]\n",
            " [1.000e+00 4.000e+01 1.600e+03]\n",
            " [1.000e+00 4.100e+01 1.681e+03]\n",
            " [1.000e+00 3.700e+01 1.369e+03]\n",
            " [1.000e+00 3.900e+01 1.521e+03]\n",
            " [1.000e+00 3.200e+01 1.024e+03]\n",
            " [1.000e+00 3.600e+01 1.296e+03]]\n"
          ]
        }
      ]
    },
    {
      "cell_type": "code",
      "metadata": {
        "colab": {
          "base_uri": "https://localhost:8080/",
          "height": 265
        },
        "id": "uJDqvQL6MOI6",
        "outputId": "02db5be6-ef6f-4fbd-ffb8-5ef800486bf0"
      },
      "source": [
        "poly_model = LinearRegression()\n",
        "poly_model = poly_model.fit(x_poly,y)\n",
        "plt.scatter(x,y,label='data')\n",
        "\n",
        "sorted_zip = sorted(zip(x,y_pred_poly))\n",
        "x_plot, y_plot = zip(*sorted_zip)\n",
        "plt.plot(x_plot,y_plot,label='predict',linewidth=3,color='r')\n",
        "plt.legend(loc = 'lower right')\n",
        "plt.show()"
      ],
      "execution_count": null,
      "outputs": [
        {
          "output_type": "display_data",
          "data": {
            "image/png": "[encoded data removed]",
            "text/plain": [
              "<Figure size 432x288 with 1 Axes>"
            ]
          },
          "metadata": {
            "needs_background": "light"
          }
        }
      ]
    },
    {
      "cell_type": "code",
      "metadata": {
        "colab": {
          "base_uri": "https://localhost:8080/"
        },
        "id": "Tf88bwtcMw-q",
        "outputId": "abab7993-d5c8-4373-e833-36494d5b5655"
      },
      "source": [
        "y_pred_poly = poly_model.predict(x_poly)\n",
        "print(\"rmse:\",np.sqrt(mean_squared_error(y,y_pred_poly)))\n",
        "print(\"r2:\",r2_score(y,y_pred_poly))"
      ],
      "execution_count": null,
      "outputs": [
        {
          "output_type": "stream",
          "name": "stdout",
          "text": [
            "rmse: 164.29630171516922\n",
            "r2: 0.9175058368195064\n"
          ]
        }
      ]
    },
    {
      "cell_type": "markdown",
      "metadata": {
        "id": "etcUwG2ElP4P"
      },
      "source": [
        "## **Boston data**"
      ]
    },
    {
      "cell_type": "code",
      "metadata": {
        "id": "0LT5C8Pyk31_"
      },
      "source": [
        "from sklearn import datasets\n",
        "boston = datasets.load_boston()"
      ],
      "execution_count": null,
      "outputs": []
    },
    {
      "cell_type": "code",
      "metadata": {
        "colab": {
          "base_uri": "https://localhost:8080/"
        },
        "id": "q4EB-khflASW",
        "outputId": "2b77545e-20a5-4bdc-94b9-3a34aa3ec896"
      },
      "source": [
        "x = boston.data\n",
        "y = boston.target\n",
        "print(boston.feature_names)"
      ],
      "execution_count": null,
      "outputs": [
        {
          "output_type": "stream",
          "name": "stdout",
          "text": [
            "['CRIM' 'ZN' 'INDUS' 'CHAS' 'NOX' 'RM' 'AGE' 'DIS' 'RAD' 'TAX' 'PTRATIO'\n",
            " 'B' 'LSTAT']\n"
          ]
        }
      ]
    },
    {
      "cell_type": "code",
      "metadata": {
        "colab": {
          "base_uri": "https://localhost:8080/"
        },
        "id": "aX5vkhivlO0q",
        "outputId": "502d9b3e-62e2-4caa-c409-fbef8daa5b53"
      },
      "source": [
        "from sklearn.linear_model import LinearRegression\n",
        "from sklearn.model_selection import train_test_split\n",
        "X_train, X_test, y_train, y_test = train_test_split(x,y,test_size=0.2)\n",
        "print(X_train.shape)\n",
        "print(X_test.shape)"
      ],
      "execution_count": null,
      "outputs": [
        {
          "output_type": "stream",
          "name": "stdout",
          "text": [
            "(404, 13)\n",
            "(102, 13)\n"
          ]
        }
      ]
    },
    {
      "cell_type": "code",
      "metadata": {
        "id": "k_Q_Ji7cmc8H"
      },
      "source": [
        "LRboston = LinearRegression(normalize=True)"
      ],
      "execution_count": null,
      "outputs": []
    },
    {
      "cell_type": "code",
      "metadata": {
        "colab": {
          "base_uri": "https://localhost:8080/"
        },
        "id": "gc38U9ljnAHO",
        "outputId": "5b08c740-2e04-4a13-c8fd-da233be0de97"
      },
      "source": [
        "LRboston.fit(X_train,y_train)\n",
        "y_predboston = LRboston.predict(X_test)\n",
        "print(y_predboston)"
      ],
      "execution_count": null,
      "outputs": [
        {
          "output_type": "stream",
          "name": "stdout",
          "text": [
            "[23.32174795 18.70247168 21.74195781 24.84155038 28.27021446 35.95490603\n",
            " 10.25404509 34.80210393 17.3764911  33.94780276 23.03517061 17.01315851\n",
            " 25.69021998 20.44146726  8.80016007 13.37381025 20.15461226  6.41840692\n",
            " 27.88164968 17.66148648 18.43558216 14.63893352 22.30648379 13.18919003\n",
            " 27.4827997  14.87442482 22.5486671  22.85273406 20.91221807 18.40245113\n",
            " 13.37800575 30.36419767 20.20906961  3.05602515 34.62195559 19.50049809\n",
            " 28.24934325 14.2887738  14.98902351 40.28861448 19.4540086  26.9373588\n",
            " 22.12630386 19.12946473  1.23579329 26.9143107  20.76561329 22.40563086\n",
            " 20.97868298 12.94224898 17.43594577 15.63590682 35.03201961 27.25686981\n",
            " 12.44443172 15.25001517  9.50628375 38.65949426 19.02885351 32.46531183\n",
            " 18.82311559 38.19666374 20.3617537  16.84318348  6.73357875 17.35239838\n",
            " 30.26792932 25.81252468 24.61335903  0.89670479 22.13885437 24.36465943\n",
            " 19.54235959 20.69504542 30.61623616 30.66346124 14.65337469 15.73032897\n",
            " 32.86298157 42.4626336  25.75807334 24.56186686 27.13474472 27.68782208\n",
            " 20.03092245 21.93192009 27.15976029 10.96935688 11.42044116 35.81590848\n",
            " 17.59704366 24.24915561 14.66230698 23.09981532 29.49884486 20.30135976\n",
            " 18.86229402 13.84956305 21.52758479 19.3456716  16.86957448 19.25225741]\n"
          ]
        }
      ]
    },
    {
      "cell_type": "code",
      "metadata": {
        "colab": {
          "base_uri": "https://localhost:8080/"
        },
        "id": "Q2apkw5NneA0",
        "outputId": "f92733b9-d46c-4078-d5c6-abcf48faaf3d"
      },
      "source": [
        "from sklearn.metrics import mean_squared_error, r2_score\n",
        "import numpy as np\n",
        "rmse = np.sqrt(mean_squared_error(y_predboston,y_test))\n",
        "print(rmse )\n",
        "print(r2_score(y_predboston,y_test))"
      ],
      "execution_count": null,
      "outputs": [
        {
          "output_type": "stream",
          "name": "stdout",
          "text": [
            "5.155454904880552\n",
            "0.6055580484819394\n"
          ]
        }
      ]
    }
  ]
}