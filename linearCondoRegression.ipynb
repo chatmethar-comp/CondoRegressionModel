{
  "nbformat": 4,
  "nbformat_minor": 0,
  "metadata": {
    "colab": {
      "name": "linearCondoRegression.ipynb",
      "provenance": [],
      "authorship_tag": "ABX9TyMb+/zq8R/NPFpFz/Dt3OCn",
      "include_colab_link": true
    },
    "kernelspec": {
      "name": "python3",
      "display_name": "Python 3"
    },
    "language_info": {
      "name": "python"
    }
  },
  "cells": [
    {
      "cell_type": "markdown",
      "metadata": {
        "id": "view-in-github",
        "colab_type": "text"
      },
      "source": [
        "<a href=\"https://colab.research.google.com/github/chatmethar-comp/CondoRegressionModel/blob/main/linearCondoRegression.ipynb\" target=\"_parent\"><img src=\"https://colab.research.google.com/assets/colab-badge.svg\" alt=\"Open In Colab\"/></a>"
      ]
    },
    {
      "cell_type": "code",
      "metadata": {
        "id": "5ywdBIoCp2QY"
      },
      "source": [
        "import numpy as np\n",
        "x = np.array([35,47,42,44,45,45,50,42,43,44,40,41,37,39,32,36])\n",
        "y = np.array([2911,4000,3822,3900,3894,4102,4264,3714,3954,4000,3789,3900,2985,3951,1920,3544])\n",
        "x = x.reshape(-1,1)"
      ],
      "execution_count": 4,
      "outputs": []
    },
    {
      "cell_type": "markdown",
      "metadata": {
        "id": "tluzZiM-5-lZ"
      },
      "source": [
        ""
      ]
    },
    {
      "cell_type": "code",
      "metadata": {
        "colab": {
          "base_uri": "https://localhost:8080/",
          "height": 265
        },
        "id": "PBrV52P65Jnw",
        "outputId": "fb3baa03-d4e6-4eb5-9b58-76d44e440a66"
      },
      "source": [
        "import matplotlib.pyplot as plt\n",
        "plt.scatter(x,y, s=80, marker = '*')\n",
        "plt.show()"
      ],
      "execution_count": 5,
      "outputs": [
        {
          "output_type": "display_data",
          "data": {
            "image/png": "[encoded data removed]",
            "text/plain": [
              "<Figure size 432x288 with 1 Axes>"
            ]
          },
          "metadata": {
            "needs_background": "light"
          }
        }
      ]
    },
    {
      "cell_type": "code",
      "metadata": {
        "id": "-nOa_STA6hnR"
      },
      "source": [
        "from sklearn.linear_model import LinearRegression"
      ],
      "execution_count": 3,
      "outputs": []
    },
    {
      "cell_type": "code",
      "metadata": {
        "colab": {
          "base_uri": "https://localhost:8080/"
        },
        "id": "I-1VDBCj7NfN",
        "outputId": "5573b78d-9b25-4acf-a391-ee471ced9290"
      },
      "source": [
        "LR = LinearRegression(normalize=True)\n",
        "LR.fit(x,y)"
      ],
      "execution_count": 6,
      "outputs": [
        {
          "output_type": "execute_result",
          "data": {
            "text/plain": [
              "LinearRegression(copy_X=True, fit_intercept=True, n_jobs=None, normalize=True)"
            ]
          },
          "metadata": {},
          "execution_count": 6
        }
      ]
    },
    {
      "cell_type": "code",
      "metadata": {
        "id": "_U-vhhEz7SYQ",
        "colab": {
          "base_uri": "https://localhost:8080/"
        },
        "outputId": "d88fb412-f28c-4ce1-bb82-a702cd6f48fa"
      },
      "source": [
        "y_pred = LR.predict(x)\n",
        "print(y_pred)\n",
        "from sklearn.metrics import mean_squared_error, r2_score\n",
        "rmse = np.sqrt(mean_squared_error(y,y_pred))\n",
        "print(\"rmse root mean sqare error =\",rmse)\n",
        "\n",
        "r2 = r2_score(y,y_pred)\n",
        "print(\"R2 = \",r2)"
      ],
      "execution_count": 12,
      "outputs": [
        {
          "output_type": "stream",
          "name": "stdout",
          "text": [
            "[2989.19213483 4262.47752809 3731.94194757 3944.15617978 4050.26329588\n",
            " 4050.26329588 4580.7988764  3731.94194757 3838.04906367 3944.15617978\n",
            " 3519.72771536 3625.83483146 3201.40636704 3413.62059925 2670.87078652\n",
            " 3095.29925094]\n",
            "rmse root mean sqare error = 303.9152760843936\n",
            "R2 =  0.7177248113014503\n"
          ]
        }
      ]
    },
    {
      "cell_type": "code",
      "metadata": {
        "colab": {
          "base_uri": "https://localhost:8080/",
          "height": 265
        },
        "id": "Sc5DsUfBAwyg",
        "outputId": "ad7224a7-ade8-4c33-bcea-0a8c7c7c8650"
      },
      "source": [
        "plt.scatter(x,y,marker= '+',label = 'data')\n",
        "plt.plot(x,y_pred,linewidth=3,color = 'r',label = 'linear regression model')\n",
        "plt.legend(loc = 'lower right')\n",
        "plt.show()"
      ],
      "execution_count": 20,
      "outputs": [
        {
          "output_type": "display_data",
          "data": {
            "image/png": "[encoded data removed]",
            "text/plain": [
              "<Figure size 432x288 with 1 Axes>"
            ]
          },
          "metadata": {
            "needs_background": "light"
          }
        }
      ]
    },
    {
      "cell_type": "code",
      "metadata": {
        "colab": {
          "base_uri": "https://localhost:8080/"
        },
        "id": "2j8ufEjJBqAg",
        "outputId": "ec003bbd-f98f-4d93-e232-703c87a5043a"
      },
      "source": [
        "data_predict = [63]\n",
        "print(\"63 m2 area cost\",LR.predict([data_predict])[0],\"thousand bath\",\"\\nposibility {:.2f}%\".format(r2_score(y,y_pred)*100))"
      ],
      "execution_count": 30,
      "outputs": [
        {
          "output_type": "stream",
          "name": "stdout",
          "text": [
            "63 m2 area cost 5960.191385767791 thousand bath \n",
            "posibility 71.77%\n"
          ]
        }
      ]
    }
  ]
}