{
  "nbformat": 4,
  "nbformat_minor": 0,
  "metadata": {
    "colab": {
      "name": "linearCondoRegression.ipynb",
      "provenance": [],
      "collapsed_sections": [],
      "authorship_tag": "ABX9TyMmscQnp1UVQhV/mOa7bs5Z",
      "include_colab_link": true
    },
    "kernelspec": {
      "name": "python3",
      "display_name": "Python 3"
    },
    "language_info": {
      "name": "python"
    }
  },
  "cells": [
    {
      "cell_type": "markdown",
      "metadata": {
        "id": "view-in-github",
        "colab_type": "text"
      },
      "source": [
        "<a href=\"https://colab.research.google.com/github/chatmethar-comp/CondoRegressionModel/blob/main/linearCondoRegression.ipynb\" target=\"_parent\"><img src=\"https://colab.research.google.com/assets/colab-badge.svg\" alt=\"Open In Colab\"/></a>"
      ]
    },
    {
      "cell_type": "code",
      "metadata": {
        "id": "5ywdBIoCp2QY",
        "colab": {
          "base_uri": "https://localhost:8080/"
        },
        "outputId": "4b58997f-1de6-4c3a-adbd-2bbbe25f7ebf"
      },
      "source": [
        "import numpy as np\n",
        "x = np.array([35,47,42,44,45,45,50,42,43,44,40,41,37,39,32,36])\n",
        "y = np.array([2911,4000,3822,3900,3894,4102,4264,3714,3954,4000,3789,3900,2985,3951,1920,3544])\n",
        "x = x.reshape(-1,1)\n",
        "\n",
        "import pandas as pd\n",
        "xdataframe = pd.DataFrame(x)\n",
        "ydataframe = pd.DataFrame(y)\n",
        "xdataframe.insert(1,\"cost\",ydataframe)\n",
        "print(xdataframe)"
      ],
      "execution_count": 73,
      "outputs": [
        {
          "output_type": "stream",
          "name": "stdout",
          "text": [
            "     0  cost\n",
            "0   35  2911\n",
            "1   47  4000\n",
            "2   42  3822\n",
            "3   44  3900\n",
            "4   45  3894\n",
            "5   45  4102\n",
            "6   50  4264\n",
            "7   42  3714\n",
            "8   43  3954\n",
            "9   44  4000\n",
            "10  40  3789\n",
            "11  41  3900\n",
            "12  37  2985\n",
            "13  39  3951\n",
            "14  32  1920\n",
            "15  36  3544\n"
          ]
        }
      ]
    },
    {
      "cell_type": "markdown",
      "metadata": {
        "id": "NwDi7Ct8KAq7"
      },
      "source": [
        "### **Linear Regression Condominiam**"
      ]
    },
    {
      "cell_type": "markdown",
      "metadata": {
        "id": "tluzZiM-5-lZ"
      },
      "source": [
        ""
      ]
    },
    {
      "cell_type": "code",
      "metadata": {
        "colab": {
          "base_uri": "https://localhost:8080/",
          "height": 265
        },
        "id": "PBrV52P65Jnw",
        "outputId": "d1cd9beb-f04b-4b5a-8e26-00d25c4a517a"
      },
      "source": [
        "import matplotlib.pyplot as plt\n",
        "plt.scatter(x,y, s=80, marker = '*')\n",
        "plt.show()"
      ],
      "execution_count": 37,
      "outputs": [
        {
          "output_type": "display_data",
          "data": {
            "image/png": "[encoded data removed]",
            "text/plain": [
              "<Figure size 432x288 with 1 Axes>"
            ]
          },
          "metadata": {
            "needs_background": "light"
          }
        }
      ]
    },
    {
      "cell_type": "code",
      "metadata": {
        "id": "-nOa_STA6hnR"
      },
      "source": [
        "from sklearn.linear_model import LinearRegression"
      ],
      "execution_count": 38,
      "outputs": []
    },
    {
      "cell_type": "code",
      "metadata": {
        "colab": {
          "base_uri": "https://localhost:8080/"
        },
        "id": "I-1VDBCj7NfN",
        "outputId": "4b20fcd0-f142-42c2-8839-b06f9a83891b"
      },
      "source": [
        "LR = LinearRegression(normalize=True)\n",
        "LR.fit(x,y)"
      ],
      "execution_count": 39,
      "outputs": [
        {
          "output_type": "execute_result",
          "data": {
            "text/plain": [
              "LinearRegression(copy_X=True, fit_intercept=True, n_jobs=None, normalize=True)"
            ]
          },
          "metadata": {},
          "execution_count": 39
        }
      ]
    },
    {
      "cell_type": "code",
      "metadata": {
        "id": "_U-vhhEz7SYQ",
        "colab": {
          "base_uri": "https://localhost:8080/"
        },
        "outputId": "84a21e34-7ec3-4d6d-812b-ca86cf39bcd5"
      },
      "source": [
        "y_pred = LR.predict(x)\n",
        "print(y_pred)\n",
        "from sklearn.metrics import mean_squared_error, r2_score\n",
        "rmse = np.sqrt(mean_squared_error(y,y_pred))\n",
        "print(\"rmse root mean sqare error =\",rmse)\n",
        "\n",
        "r2 = r2_score(y,y_pred)\n",
        "print(\"R2 = \",r2)"
      ],
      "execution_count": 40,
      "outputs": [
        {
          "output_type": "stream",
          "name": "stdout",
          "text": [
            "[2989.19213483 4262.47752809 3731.94194757 3944.15617978 4050.26329588\n",
            " 4050.26329588 4580.7988764  3731.94194757 3838.04906367 3944.15617978\n",
            " 3519.72771536 3625.83483146 3201.40636704 3413.62059925 2670.87078652\n",
            " 3095.29925094]\n",
            "rmse root mean sqare error = 303.9152760843936\n",
            "R2 =  0.7177248113014503\n"
          ]
        }
      ]
    },
    {
      "cell_type": "code",
      "metadata": {
        "colab": {
          "base_uri": "https://localhost:8080/",
          "height": 265
        },
        "id": "Sc5DsUfBAwyg",
        "outputId": "19215d93-4a49-4e7d-b469-d14d7350950f"
      },
      "source": [
        "plt.scatter(x,y,marker= '+',label = 'data')\n",
        "plt.plot(x,y_pred,linewidth=3,color = 'r',label = 'linear regression model')\n",
        "plt.legend(loc = 'lower right')\n",
        "plt.show()"
      ],
      "execution_count": 41,
      "outputs": [
        {
          "output_type": "display_data",
          "data": {
            "image/png": "[encoded data removed]",
            "text/plain": [
              "<Figure size 432x288 with 1 Axes>"
            ]
          },
          "metadata": {
            "needs_background": "light"
          }
        }
      ]
    },
    {
      "cell_type": "code",
      "metadata": {
        "colab": {
          "base_uri": "https://localhost:8080/"
        },
        "id": "2j8ufEjJBqAg",
        "outputId": "76208289-ea0e-4d12-f4e7-20578a8ddc08"
      },
      "source": [
        "data_predict = [63]\n",
        "print(\"63 m2 area cost\",LR.predict([data_predict])[0],\"thousand bath\",\"\\nposibility {:.2f}%\".format(r2_score(y,y_pred)*100))"
      ],
      "execution_count": 42,
      "outputs": [
        {
          "output_type": "stream",
          "name": "stdout",
          "text": [
            "63 m2 area cost 5960.191385767791 thousand bath \n",
            "posibility 71.77%\n"
          ]
        }
      ]
    },
    {
      "cell_type": "markdown",
      "metadata": {
        "id": "az2sJBLLKVGa"
      },
      "source": [
        "## **Polynomial Regression Condominiam**"
      ]
    },
    {
      "cell_type": "code",
      "metadata": {
        "colab": {
          "base_uri": "https://localhost:8080/",
          "height": 265
        },
        "id": "7mT0UX3JKhk6",
        "outputId": "9169d346-b371-474d-c4f9-9772ee4661b4"
      },
      "source": [
        "plt.scatter(x,y,marker='*')\n",
        "plt.show()"
      ],
      "execution_count": 43,
      "outputs": [
        {
          "output_type": "display_data",
          "data": {
            "image/png": "[encoded data removed]",
            "text/plain": [
              "<Figure size 432x288 with 1 Axes>"
            ]
          },
          "metadata": {
            "needs_background": "light"
          }
        }
      ]
    },
    {
      "cell_type": "code",
      "metadata": {
        "id": "KXfTcUI4LaPf"
      },
      "source": [
        "from sklearn.preprocessing import PolynomialFeatures\n",
        "from sklearn.linear_model import LinearRegression"
      ],
      "execution_count": 44,
      "outputs": []
    },
    {
      "cell_type": "code",
      "metadata": {
        "colab": {
          "base_uri": "https://localhost:8080/"
        },
        "id": "z7nS_OgrLxPO",
        "outputId": "c077b23f-2444-4deb-fa0b-70103221974e"
      },
      "source": [
        "poly_feature = PolynomialFeatures(degree=2)\n",
        "x_poly = poly_feature.fit_transform(x)\n",
        "print(x_poly)"
      ],
      "execution_count": 45,
      "outputs": [
        {
          "output_type": "stream",
          "name": "stdout",
          "text": [
            "[[1.000e+00 3.500e+01 1.225e+03]\n",
            " [1.000e+00 4.700e+01 2.209e+03]\n",
            " [1.000e+00 4.200e+01 1.764e+03]\n",
            " [1.000e+00 4.400e+01 1.936e+03]\n",
            " [1.000e+00 4.500e+01 2.025e+03]\n",
            " [1.000e+00 4.500e+01 2.025e+03]\n",
            " [1.000e+00 5.000e+01 2.500e+03]\n",
            " [1.000e+00 4.200e+01 1.764e+03]\n",
            " [1.000e+00 4.300e+01 1.849e+03]\n",
            " [1.000e+00 4.400e+01 1.936e+03]\n",
            " [1.000e+00 4.000e+01 1.600e+03]\n",
            " [1.000e+00 4.100e+01 1.681e+03]\n",
            " [1.000e+00 3.700e+01 1.369e+03]\n",
            " [1.000e+00 3.900e+01 1.521e+03]\n",
            " [1.000e+00 3.200e+01 1.024e+03]\n",
            " [1.000e+00 3.600e+01 1.296e+03]]\n"
          ]
        }
      ]
    },
    {
      "cell_type": "code",
      "metadata": {
        "id": "Tf88bwtcMw-q",
        "colab": {
          "base_uri": "https://localhost:8080/"
        },
        "outputId": "0e95d5e3-fbad-430a-bf89-52d5a1fdd8b8"
      },
      "source": [
        "y_pred_poly = poly_model.predict(x_poly)\n",
        "print(\"rmse:\",np.sqrt(mean_squared_error(y,y_pred_poly)))\n",
        "print(\"r2:\",r2_score(y,y_pred_poly))"
      ],
      "execution_count": 46,
      "outputs": [
        {
          "output_type": "stream",
          "name": "stdout",
          "text": [
            "rmse: 207.72313115860635\n",
            "r2: 0.8681326232114241\n"
          ]
        }
      ]
    },
    {
      "cell_type": "code",
      "metadata": {
        "colab": {
          "base_uri": "https://localhost:8080/",
          "height": 265
        },
        "id": "uJDqvQL6MOI6",
        "outputId": "4ab2a73c-7302-4c97-e286-d1a0c057109a"
      },
      "source": [
        "poly_model = LinearRegression()\n",
        "poly_model = poly_model.fit(x_poly,y)\n",
        "plt.scatter(x,y,label='data')\n",
        "\n",
        "sorted_zip = sorted(zip(x,y_pred_poly))\n",
        "x_plot, y_plot = zip(*sorted_zip)\n",
        "plt.plot(x_plot,y_plot,label='predict',linewidth=3,color='r')\n",
        "plt.legend(loc = 'lower right')\n",
        "plt.show()"
      ],
      "execution_count": 47,
      "outputs": [
        {
          "output_type": "display_data",
          "data": {
            "image/png": "[encoded data removed]",
            "text/plain": [
              "<Figure size 432x288 with 1 Axes>"
            ]
          },
          "metadata": {
            "needs_background": "light"
          }
        }
      ]
    },
    {
      "cell_type": "markdown",
      "metadata": {
        "id": "etcUwG2ElP4P"
      },
      "source": [
        "## **Boston data**"
      ]
    },
    {
      "cell_type": "code",
      "metadata": {
        "id": "0LT5C8Pyk31_"
      },
      "source": [
        "from sklearn import datasets\n",
        "boston = datasets.load_boston()"
      ],
      "execution_count": 48,
      "outputs": []
    },
    {
      "cell_type": "code",
      "metadata": {
        "id": "q4EB-khflASW",
        "colab": {
          "base_uri": "https://localhost:8080/"
        },
        "outputId": "6aa146a1-dfd9-4243-86a3-881ded8bfe72"
      },
      "source": [
        "x = boston.data\n",
        "y = boston.target\n",
        "print(boston.feature_names)"
      ],
      "execution_count": 49,
      "outputs": [
        {
          "output_type": "stream",
          "name": "stdout",
          "text": [
            "['CRIM' 'ZN' 'INDUS' 'CHAS' 'NOX' 'RM' 'AGE' 'DIS' 'RAD' 'TAX' 'PTRATIO'\n",
            " 'B' 'LSTAT']\n"
          ]
        }
      ]
    },
    {
      "cell_type": "code",
      "metadata": {
        "id": "aX5vkhivlO0q",
        "colab": {
          "base_uri": "https://localhost:8080/"
        },
        "outputId": "51fe0bf2-6b3c-4fcc-d2a0-5fd421145c83"
      },
      "source": [
        "from sklearn.linear_model import LinearRegression\n",
        "from sklearn.model_selection import train_test_split\n",
        "X_train, X_test, y_train, y_test = train_test_split(x,y,test_size=0.2)\n",
        "print(X_train.shape)\n",
        "print(X_test.shape)"
      ],
      "execution_count": 50,
      "outputs": [
        {
          "output_type": "stream",
          "name": "stdout",
          "text": [
            "(404, 13)\n",
            "(102, 13)\n"
          ]
        }
      ]
    },
    {
      "cell_type": "code",
      "metadata": {
        "id": "k_Q_Ji7cmc8H"
      },
      "source": [
        "LRboston = LinearRegression(normalize=True)"
      ],
      "execution_count": 51,
      "outputs": []
    },
    {
      "cell_type": "code",
      "metadata": {
        "id": "gc38U9ljnAHO",
        "colab": {
          "base_uri": "https://localhost:8080/"
        },
        "outputId": "9bfb6f73-129c-437b-9dbb-95edff08af4d"
      },
      "source": [
        "LRboston.fit(X_train,y_train)\n",
        "y_predboston = LRboston.predict(X_test)\n",
        "print(y_predboston)"
      ],
      "execution_count": 52,
      "outputs": [
        {
          "output_type": "stream",
          "name": "stdout",
          "text": [
            "[19.87004804 23.66418004 30.19269179 25.57476764 12.62816829 30.44833434\n",
            " 21.05979473 23.78466171 17.90237549 18.00701343 16.85839074 34.84590736\n",
            " 20.92532604 19.75510509 31.96276619 21.47959966 18.5550246  22.94770801\n",
            " 18.76222128 23.69181123 36.38909445 10.5095288  26.0669355  37.88335566\n",
            " 13.72196275 17.98885206 22.32789041 16.81876316 26.98574846 32.26073347\n",
            " 30.57054791 34.81037555 28.53835494 17.7523245  33.39918972 19.32625091\n",
            " 24.95179978 13.88994554 18.48566553 19.75306947 20.31000116 20.02151018\n",
            " 14.15630986 10.06146622 22.75258839 32.53185165 24.25096571 23.96370163\n",
            " 28.93447915 31.20808748 23.87589212 32.30509026 24.21932219 16.5947099\n",
            " 20.99868703 29.92391048  6.99904562 23.56641121 34.88317342 29.82209799\n",
            " 13.15713247  4.45057936 19.4994048  27.60526245 19.52679414 32.15612588\n",
            " 32.74545457 17.01584039 20.12707096 21.10780161 27.7396811  18.63219568\n",
            " 38.12953669 21.99115004 20.44937563 35.00664095 28.23244928 17.50115705\n",
            " 20.14977606 23.39015377 25.26685739 21.61940411 20.34581488 37.19038909\n",
            " 25.12148576  9.34827512 22.50356894 23.34474372 21.14038813 19.0356594\n",
            " 27.67696334 19.3519513  40.22941283 24.97881341 36.95545227 16.48935591\n",
            " 17.2677337  13.55279913 21.82644332 29.30103363 22.71881711 23.98176642]\n"
          ]
        }
      ]
    },
    {
      "cell_type": "code",
      "metadata": {
        "id": "Q2apkw5NneA0",
        "colab": {
          "base_uri": "https://localhost:8080/"
        },
        "outputId": "cbeb1891-af5a-4b97-bc16-58efd10d3eb9"
      },
      "source": [
        "from sklearn.metrics import mean_squared_error, r2_score\n",
        "import numpy as np\n",
        "rmse = np.sqrt(mean_squared_error(y_predboston,y_test))\n",
        "print(rmse )\n",
        "print(r2_score(y_predboston,y_test))"
      ],
      "execution_count": 53,
      "outputs": [
        {
          "output_type": "stream",
          "name": "stdout",
          "text": [
            "5.2325077797179365\n",
            "0.47760878249629546\n"
          ]
        }
      ]
    }
  ]
}